{
  "nbformat": 4,
  "nbformat_minor": 0,
  "metadata": {
    "colab": {
      "provenance": []
    },
    "kernelspec": {
      "name": "python3",
      "display_name": "Python 3"
    },
    "language_info": {
      "name": "python"
    }
  },
  "cells": [
    {
      "cell_type": "code",
      "execution_count": null,
      "metadata": {
        "colab": {
          "base_uri": "https://localhost:8080/"
        },
        "id": "w35oGTC8xynK",
        "outputId": "253a2d35-5c65-4acc-b36d-707ebf4becb0"
      },
      "outputs": [
        {
          "output_type": "stream",
          "name": "stdout",
          "text": [
            "            Original_peak  Reduced_peak   Ideal_peak\n",
            "Date                                                \n",
            "2024-04-30    1087.488333   1087.488333  1055.000000\n",
            "2024-05-31    1094.605000   1093.101229  1053.000000\n",
            "2024-06-30    1126.295000   1126.295000  1084.000000\n",
            "2024-07-31    1119.615000   1117.643333  1078.930000\n",
            "2024-08-31    1116.590000   1105.158621  1078.000000\n",
            "2024-09-30    1082.998333   1071.255874  1030.000000\n",
            "2024-10-31    1046.288333   1034.965536   989.000000\n",
            "2024-11-30    1077.725000   1055.831667  1006.000000\n",
            "2024-12-31    1006.211667   1006.211667   953.000000\n",
            "2025-01-31     979.546667    974.343126   941.000000\n",
            "2025-02-28    1067.895000   1067.895000  1030.023333\n"
          ]
        }
      ],
      "source": [
        "import pandas as pd\n",
        "import numpy as np\n",
        "\n",
        "df = pd.read_csv('/content/results_summary (4).csv')\n",
        "\n",
        "# Ensure that Date is in datetime format and set as index\n",
        "df['Date'] = pd.to_datetime(df['Date'])\n",
        "df.set_index('Date', inplace = True)\n",
        "\n",
        "# Calculate the Ideal Peak for each data point\n",
        "df['Ideal_peak'] = df['Original_peak'] - df['Ideal Reduction']\n",
        "\n",
        "# Resample by month and find the maximum for 'Original Peak' and 'Reduced Peak'\n",
        "monthly_max_peaks =df[['Original_peak', 'Reduced_peak', 'Ideal_peak']].resample('ME').max()\n",
        "\n",
        "print(monthly_max_peaks)"
      ]
    },
    {
      "cell_type": "code",
      "source": [
        "monthly_max_peaks['Predicted_reduction'] = monthly_max_peaks['Original_peak'] - monthly_max_peaks['Reduced_peak']\n",
        "monthly_max_peaks['Ideal_reduction'] = monthly_max_peaks['Original_peak'] - monthly_max_peaks['Ideal_peak']\n",
        "monthly_max_peaks['Reduction_factor'] = monthly_max_peaks['Predicted_reduction'] / monthly_max_peaks['Ideal_reduction']\n",
        "\n",
        "average_reduction_factor = monthly_max_peaks['Reduction_factor'].mean()\n",
        "monthly_max_peaks['Average_reduction_factor'] = average_reduction_factor\n",
        "print(f\"Average Reduction Factor: {average_reduction_factor}\")"
      ],
      "metadata": {
        "colab": {
          "base_uri": "https://localhost:8080/"
        },
        "id": "JjS3AAYbzD4A",
        "outputId": "45954215-dc38-4456-8e9e-8db2e1d5a1d6"
      },
      "execution_count": null,
      "outputs": [
        {
          "output_type": "stream",
          "name": "stdout",
          "text": [
            "Average Reduction Factor: 0.11275218169009041\n"
          ]
        }
      ]
    },
    {
      "cell_type": "code",
      "source": [
        "monthly_max_peaks.to_csv('KMDR.csv')"
      ],
      "metadata": {
        "id": "c7EOsLGW0mlT"
      },
      "execution_count": null,
      "outputs": []
    }
  ]
}